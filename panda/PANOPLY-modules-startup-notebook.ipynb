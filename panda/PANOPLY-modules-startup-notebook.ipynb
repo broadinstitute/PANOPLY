{
 "cells": [
  {
   "attachments": {},
   "cell_type": "markdown",
   "metadata": {},
   "source": [
    "# PANOPLY Startup Notebook<br> for running individual analysis modules\n",
    "\n",
    "This notebook provides an easy-to-use interface to configure a Terra Workspace to run PANOPLY on proteogenomics data. <br>\n",
    "**Click the `OPEN` button above** and follow these step-by-step instructions to get started. \n",
    "\n",
    "-----\n",
    "### Using this Notebook\n",
    "<div class=\"alert alert-block alert-info\">\n",
    "\n",
    "1. Start the **Notebook Runtime** with the `gcr.io/broadcptac/panda:1_4` docker.  \n",
    "> - Click on the Notebook settings (cog-wheel) at the top right. Use the `ENVIRONMENT` pull down and choose `Custom Environment`. Enter `gcr.io/broadcptac/panda:1_4` into the `CONTAINER IMAGE` text box. Customize `COMPUTE POWER` as needed, and click `CREATE` or `UPDATE`.\n",
    "2. You can run this notebook multiple times.  \n",
    "> - The first execution should run all code blocks (except the optional **Color Schemes** section). \n",
    "> - Subsequent executions will retain original settings, which can be modified as needed (by running appropriate code blocks), including creating new sample subsets.\n",
    " \n",
    "3. To run a code block, click on it, and either choose `Cell -> Run Cells` or hit `Shift-ENTER`. Running the entire notebook is not recommended since many code blocks require user input. Carefully read each section, and then run the associated code block.\n",
    "</div>\n",
    "\n",
    "Running this notebook results in:\n",
    "* Creating/updating a `config.yaml` configuration file that captures your choices made by running this notebook. If this configuration file is already present (i.e., notebook was already run previsouly), those choices will be reused, and can be optionally modified.\n",
    "* Uploading input data to the Terra Workspace bucket.\n",
    "* Creating data subsets, if specified. A default subset `all` including all samples is always created. \n",
    "* Configuring parameters and metadata tables in the Terra Workspace to enable single-click execution of PANOPLY workflows.\n",
    "\n",
    "-----\n",
    "\n",
    "### Prepare Data\n",
    "You will need the following data tables to run PANOPLY:\n",
    "\n",
    "##### Required:\n",
    "* At least **one dataset**: either proteomics (global proteome, phosphoproteome, acetylome, ubiquitylome--after database searching and quantification) or genomics (RNA, CNA--normalized and filtered as needed) data;\n",
    "* `Annotation` table with at least `Sample.ID` and `Type` columns, in addition to an arbitrary number of annotations for the samples.\n",
    "\n",
    "##### Optional:\n",
    "* A `groups` file that lists a subset of annotations (one per line) to be used for association and enrichment analysis;\n",
    "* A default `parameter` file is used, unless one is specified in the input (in `yaml` format);\n",
    "* Pathway databases for PTM-SEA (PTM-SigDB v1.9.0) and GSEA (v6.2 hallmark pathways) are automatically included, and can be over-ridden by providing appropriate `gmt` input files.\n",
    "\n",
    "##### Formats:\n",
    "`Annotation` and `groups` tables must be in `csv` format. The `Annotation` table must include a `Sample.ID` column. `Sample.ID`s must be unique and cannot have duplicates. If a `groups` file is not specified in the input, one can be interactively created using the annotations present in the `annotation` table.\n",
    "\n",
    "All proteomics and genomics data tables must be in [GCT v1.3 format](https://clue.io/connectopedia/gct_format), with sample ids (column names) conforming to the `Sample.ID`s used in the `annotation` table. Ideally, the sample annotations included in the `annotation` table would be present in the GCT v1.3 data files as column annotations. See [here](https://github.com/broadinstitute/PANOPLY/wiki) for more details.\n",
    "\n",
    "All genomics data tables must be appropriately normalized/filtered prior to use in PANOPLY. Proteomics data can be optionally normalized/filtered in PANOPLY.\n",
    "\n",
    "**Continue** by reading the descriptions and requirements, and running appropriate code blocks. \n",
    "\n",
    "### Initialize Notebook\n",
    "Start by running the initialization code block below."
   ]
  },
  {
   "cell_type": "code",
   "execution_count": null,
   "metadata": {
    "vscode": {
     "languageId": "r"
    }
   },
   "outputs": [],
   "source": [
    "source( \"/panda/build-config.r\" )\n",
    "panda_initialize(\"modules\")"
   ]
  },
  {
   "cell_type": "markdown",
   "metadata": {},
   "source": [
    "# Inputs\n",
    "Create a **ZIP** compressed file containing *at least one proteome data type and annotation*, along with any additional files:\n",
    "\n",
    "    - GCT  (proteome, phosphoproteome, acetylome, ubiquitylome, RNA, CNA)\n",
    "    - CSV  (annotation, groups)\n",
    "    - YAML (parameters -- defaults to master-parameters.yaml on PANOPLY_PRODUCTION workspace)\n",
    "    - GMT  (ptmseaDB, gseaDB -- pathway databases for PTMSEA/GSEA, defaults to versions on PANOPLY_PRODUCTION)\n",
    "\n",
    "### Upload ZIP file to workspace bucket\n",
    "Open your workspace in a new tab or window. Upload your ZIP file into your workspace by navigating to `DATA` tab -> `Files` tab, and then using the `Upload` button on the top of the window or dragging-and-dropping your files. Enter this filename when prompted for it below. ( **NOTE:**  All GCT files must conform to version `#1.3` )\n",
    "\n",
    "### Map files to data types\n",
    "Map each `gct`, `csv` or `yaml` file included in the zip file to a category. Run the following code cell to list available data types. For each file, enter a number that corresponds with the correct data type. "
   ]
  },
  {
   "cell_type": "code",
   "execution_count": null,
   "metadata": {
    "vscode": {
     "languageId": "r"
    }
   },
   "outputs": [],
   "source": [
    "panda_datatypes()"
   ]
  },
  {
   "cell_type": "markdown",
   "metadata": {},
   "source": [
    "If a file does not fit any of the categories above, enter ` 0 `.\n",
    "<br>**NOTE:** Each category can have only one file assigned. Assigning multiple files to a category will retain only the last assignment.\n",
    "\n",
    "Run the code cell below to input the ZIP file and map data files to categories. Once the data files are mapped, they will be validated to check if the majority of samples in the `annotation` table are present in each `GCT` and `csv` file."
   ]
  },
  {
   "cell_type": "code",
   "execution_count": null,
   "metadata": {
    "vscode": {
     "languageId": "r"
    }
   },
   "outputs": [],
   "source": [
    "panda_input()"
   ]
  },
  {
   "attachments": {},
   "cell_type": "markdown",
   "metadata": {},
   "source": [
    "# Data Processing\n",
    "\n",
    "Run the following code cell to toggle on/off proteome normalization, filtering, and (if applicable) site-centric PTM-Signature Enrichment Analysis (PTM-SEA).\n",
    "\n",
    "**Normalization:** Enabling normalization will apply sample-wise normalization across readings. Available normalization methods include `two-component mixture model-based` (default), `z-scoring`, and `median-MAD` normalization; normalization method can be changed by updating the `panoply_normalize_ms_data` parameters in the `master-parameters.yaml`.\n",
    "\n",
    "**Filtering:** Enabling filtering will combine replicate samples (default: by `mean`), remove readings with a standard-deviation below a threshold (default: `50%`), and remove readings with an excessive proportion of NA values (default: `70%`). These filters can be individually-toggled or customized by modifying the `missing_values_and_filtering` parameters in the `master-parameters.yaml`.\n",
    "\n",
    "**PTM-SEA:** Enabling PTM-SEA will apply PTM-Signature Enrichment Analysis to your phosphoproteomics data (if uploaded). The PANOPLY database for PTM-SEA uses flanking sequences (e.g. 'AAFGISDsYVDGSSF'); you will be prompted to select the annotation column containing flanking sequences, from your phosphoproteomics dataset. If you wish to perform PTM-SEA using non-flanking sequences, please run the PTM-SEA notebook instead, which allows the use of non-flanking sequence database."
   ]
  },
  {
   "cell_type": "code",
   "execution_count": null,
   "metadata": {
    "vscode": {
     "languageId": "r"
    }
   },
   "outputs": [],
   "source": [
    "panda_preprocessing()"
   ]
  },
  {
   "cell_type": "markdown",
   "metadata": {},
   "source": [
    "# Groups\n",
    "**Groups** represent *categorical* annotations that will be used in association analysis and for determining enrichments of specific clusters or other sample subgroups in the pipeline.\n",
    "\n",
    "If a `groups` file is not provided -- or you would like to override the `groups` file -- code in the next cell will enable interactive creation of a `groups` file, by displaying an **indexed** list of available annotations. At the prompt, you can enter either an annotation index, such as `5`, or a range of indices, such as `13:16`, separated by commas `5, 13:16`. The specifed annotation entries `5, 13, 14, 15, 16`  will be added to your list of groups. \n",
    "\n",
    "**NOTE:** Annotations with more than `max.categories` levels will be excluded."
   ]
  },
  {
   "cell_type": "code",
   "execution_count": null,
   "metadata": {
    "vscode": {
     "languageId": "r"
    }
   },
   "outputs": [],
   "source": [
    "max.categories <- 10\n",
    "panda_groups()"
   ]
  },
  {
   "cell_type": "markdown",
   "metadata": {
    "heading_collapsed": true
   },
   "source": [
    "## Color Schemes (Optional)\n",
    "### See current color scheme\n",
    "\n",
    "<details>\n",
    "    <summary>To see current groups colors, click here and run code below (click 'o' to show/hide output).</summary>\n",
    "</details>"
   ]
  },
  {
   "cell_type": "code",
   "execution_count": null,
   "metadata": {
    "hidden": true,
    "vscode": {
     "languageId": "r"
    }
   },
   "outputs": [],
   "source": [
    "panda_display_current_colors()"
   ]
  },
  {
   "cell_type": "markdown",
   "metadata": {
    "heading_collapsed": true
   },
   "source": [
    "### Reset colors to defaults\n",
    "<details>\n",
    "    <summary>To reset colors to defaults, click here and run code below (click 'o' to show/hide output).</summary>\n",
    "    \n",
    "Based on the number of unique categories for each group, default colors will be assigned to each unique category. Binary categories are usually assigned *paired* colors. Missing values or `NA`s will be given a grey color by default. These colors are used in heatmap annotations and plots in PANOPLY.\n",
    "\n",
    "Run the code cell below to reset to a default color assignments. Colors for any category can be edited using subsequent sections.\n",
    "</details>"
   ]
  },
  {
   "cell_type": "code",
   "execution_count": null,
   "metadata": {
    "hidden": true,
    "vscode": {
     "languageId": "r"
    }
   },
   "outputs": [],
   "source": [
    "panda_set_default_colors()"
   ]
  },
  {
   "cell_type": "markdown",
   "metadata": {},
   "source": [
    "### Color editing index\n",
    "<details>\n",
    "    <summary>To obtain a color editing index, click to expand and run code below (click 'o' to show/hide output).</summary>\n",
    "    \n",
    "Execute the cell below if you intend to edit the default color scheme from above. This will display an **indexed** list of groups, with an **indexed** sublist of their unique categories. You will need to reference these indexes while editing the default color scheme in the next section.\n",
    "</details>\n"
   ]
  },
  {
   "cell_type": "code",
   "execution_count": null,
   "metadata": {
    "vscode": {
     "languageId": "r"
    }
   },
   "outputs": [],
   "source": [
    "panda_colors_edit_index ( groups.colors )"
   ]
  },
  {
   "cell_type": "markdown",
   "metadata": {},
   "source": [
    "### Edit colors\n",
    "<details>\n",
    "    <summary>To edit colors, click here and run code below (click 'o' to show/hide output).</summary>\n",
    "    \n",
    "If you wish to change color assignments for one or more categories, execute the following code cell. You will be asked to enter the indices for the group and its category for which you wish to change the default color. Find these indices in the reference table above. You will then be prompted to add a color in hexadecimal #RRGGBB format (e.g., `#e4e4e4`). Deviation from this format will result in an error. \n",
    "</details>\n"
   ]
  },
  {
   "cell_type": "code",
   "execution_count": null,
   "metadata": {
    "vscode": {
     "languageId": "r"
    }
   },
   "outputs": [],
   "source": [
    "panda_colors_edit( byIndex = TRUE )"
   ]
  },
  {
   "cell_type": "markdown",
   "metadata": {},
   "source": [
    "# Sample Sets\n",
    "A set of **all** samples will get created by default after running the code cell below. You will be given a choice to add additional *sub*-sets. For example:\n",
    "\n",
    "    $$ Enter set name: luminaltumors\n",
    "$$ Filter samples based on this column. Enter name: PAM50\n",
    "    .. Values: Basal, Her2, LumA, LumB\n",
    "    $$ Enter one (LumA) or more (LumA;LumB) values from above : LumA;LumB\n",
    "\n",
    "\n",
    "This will create a subset called `tumors`. The subset will contain all samples with `Type == \"Tumor\"` in the sample annotation file. Entering `Tumor;Normal` will create a subset with all samples that have either `Type == \"Tumor\"` or `Type == \"Normal\"` in the sample annotation file. \n",
    "\n",
    "Additionally, the following code will check for any overlap between the sets you wish to create and all existing sets in your workspace. If you entered a set name which already exists in your workspace, a random suffix will be appended to your set name before it gets created and added."
   ]
  },
  {
   "cell_type": "code",
   "execution_count": null,
   "metadata": {
    "vscode": {
     "languageId": "r"
    }
   },
   "outputs": [],
   "source": [
    "panda_sample_subsets()"
   ]
  },
  {
   "cell_type": "markdown",
   "metadata": {},
   "source": [
    "# COSMO Label Selection (optional)\n",
    "\n",
    "The PANOPLY module COSMO (COrrection of Sample Mislabeling by Omics) quantitatively identifies mislabeled samples in proteomic datasets. This module requires the user to select at least one clinical attribute to be used to identify mislabeling between sample annotations and proteomic sample labels. \n",
    "\n",
    "The clinical attribute(s) selected must be binary, well-balanced, and cannot contain NAs. Below, you will see a list of the valid attributes that you may select for COSMO. Select a small number of the most clinically-relevent attributes for your samples (1-3 attributes). Typically, these attributes will include sex and/or a relevant biomarker (e.g. MSI status, TP53 mutation status, etc). \n",
    "\n",
    "Input your selected attribute(s) exactly as they appear below, seperated by a comma. For example: `sex` or `sex, MSI.Status, TP53.mutation`. If no clinical attribute(s) are selected, then the COSMO module will be skipped.\n",
    "\n",
    "See more information on COSMO [here](https://doi.org/10.1016/j.patter.2021.100245)."
   ]
  },
  {
   "cell_type": "code",
   "execution_count": null,
   "metadata": {
    "vscode": {
     "languageId": "r"
    }
   },
   "outputs": [],
   "source": [
    "select_COSMO_attributes()"
   ]
  },
  {
   "cell_type": "markdown",
   "metadata": {},
   "source": [
    "# Finalize Options\n",
    "Running the following cell creates a `config.yaml` file that encapsulates all your choices upto this point, and stores it in your current Terra Workspace's Google bucket."
   ]
  },
  {
   "cell_type": "code",
   "execution_count": null,
   "metadata": {
    "vscode": {
     "languageId": "r"
    }
   },
   "outputs": [],
   "source": [
    "panda_finalize()"
   ]
  },
  {
   "cell_type": "markdown",
   "metadata": {},
   "source": [
    "# Run PANDA\n",
    "PANDA processes and uploads data to the Google Bucket. For each sample-set, it subsets the datafiles to the appropriate samples, upload them to the workspace bucket, and links them to their relevant sample-set for ease of access. PANDA runs typically take 5-10 minutes, although they may take longer for particularly large datasets, or if many sample-sets are being generated. It will print out a `DONE` message when complete.\n",
    "\n",
    "By re-running this notebook, additional sample sets can be created."
   ]
  },
  {
   "cell_type": "code",
   "execution_count": null,
   "metadata": {
    "vscode": {
     "languageId": "r"
    }
   },
   "outputs": [],
   "source": [
    "run_panda()"
   ]
  }
 ],
 "metadata": {
  "kernelspec": {
   "display_name": "R",
   "language": "R",
   "name": "ir"
  },
  "language_info": {
   "codemirror_mode": "r",
   "file_extension": ".r",
   "mimetype": "text/x-r-source",
   "name": "R",
   "pygments_lexer": "r",
   "version": "3.6.3"
  },
  "toc": {
   "base_numbering": 1,
   "nav_menu": {
    "height": "265px",
    "width": "269px"
   },
   "number_sections": false,
   "sideBar": true,
   "skip_h1_title": false,
   "title_cell": "Table of Contents",
   "title_sidebar": "Contents",
   "toc_cell": false,
   "toc_position": {},
   "toc_section_display": true,
   "toc_window_display": true
  }
 },
 "nbformat": 4,
 "nbformat_minor": 4
}
